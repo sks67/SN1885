{
 "cells": [
  {
   "cell_type": "code",
   "execution_count": 1,
   "metadata": {
    "collapsed": false
   },
   "outputs": [
    {
     "name": "stdout",
     "output_type": "stream",
     "text": [
      "Populating the interactive namespace from numpy and matplotlib\n"
     ]
    }
   ],
   "source": [
    "%pylab inline\n",
    "import snrlightcurve_testexpindex as snrtest\n",
    "params = {'axes.linewidth':1.5,'lines.linewidth':1.3,'xtick.labelsize':15,'ytick.labelsize':15,\\\n",
    "          'xtick.major.size':7,'xtick.major.width':2,'ytick.major.size':7,'ytick.major.width':2,\\\n",
    "          'xtick.minor.size':4,'xtick.minor.width':1.5,'ytick.minor.size':4,'ytick.minor.width':1.5}\n",
    "plt.rcParams.update(params)\n",
    "plt.rcParams.update({'figure.autolayout': True})"
   ]
  },
  {
   "cell_type": "markdown",
   "metadata": {},
   "source": [
    "Remember to use the upper limit and fluxes at the same frequency. You're using $3\\sigma = 3\\times2.7 \\mu$Jy at 4.86 GHz for SN1885a, and $0.437 \\pm 0.022$ Jy for G1.9 (Green 2008)"
   ]
  },
  {
   "cell_type": "code",
   "execution_count": 29,
   "metadata": {
    "collapsed": false
   },
   "outputs": [],
   "source": [
    "def lumFluxlimit(fluxLim, beamSize, diam, dist=0.84):\n",
    "    lum = lambda x: 1.0e24*1.2*x*dist*dist  #x is radio flux in mJy\n",
    "    whPoint = np.where(diam<=beamSize)[0]\n",
    "    lumPoint = np.ones(whPoint.size)*lum(fluxLim)\n",
    "    \n",
    "    whExtend = np.where(diam>beamSize)[0]\n",
    "    numBeams =(diam[whExtend]/beamSize)**2.#np.pi*((diam/(*beamSize))**2)\n",
    "    fluxExtend = fluxLim*np.sqrt(numBeams)\n",
    "    lumExtend = lum(fluxExtend)\n",
    "    \n",
    "   # print lumPoint.size, lumExtend.size\n",
    "    return np.concatenate((lumPoint, lumExtend))\n",
    "\n",
    "\n",
    "def flux_to_lum(flux, fluxerr, dist, e_dist): #Here flux is in Jy\n",
    "    lum = 1.0e24*1.2*(flux*1.0e3)*dist*dist\n",
    "    lumerr = 1.0e24*np.sqrt((2.4*(flux*1.0e3)*dist*e_dist)**2.0 + (1.2*dist*dist*(fluxerr*1.0e3))**2.0)\n",
    "    return (lum, lumerr)"
   ]
  },
  {
   "cell_type": "code",
   "execution_count": 41,
   "metadata": {
    "collapsed": false
   },
   "outputs": [
    {
     "name": "stdout",
     "output_type": "stream",
     "text": [
      "Luminosity [ergs/s/Hz] of G1.9+0.3 =  (3.17322e+22, 0.0)\n"
     ]
    }
   ],
   "source": [
    "print 'Luminosity [ergs/s/Hz] of G1.9+0.3 = ', flux_to_lum(.366, 0.0, 8.5e-3, 0.)"
   ]
  },
  {
   "cell_type": "code",
   "execution_count": 40,
   "metadata": {
    "collapsed": false
   },
   "outputs": [
    {
     "data": {
      "image/png": "[encoded data removed]",
      "text/plain": [
       "<matplotlib.figure.Figure at 0x10ec60810>"
      ]
     },
     "metadata": {},
     "output_type": "display_data"
    }
   ],
   "source": [
    "g19_lum1, g19_lum1_err = flux_to_lum(0.366, 0.0, 8.5e-3, 0.)\n",
    "sn1885_lum, sn1885_lum_err = flux_to_lum(3.0*1.58*1.0e-6, 0., 0.785, 0.03)\n",
    "\n",
    "diams = np.linspace(0,20, 100) #Diameters in parsecs\n",
    "lums_corr = lumFluxlimit(fluxLim=3.0*0.0013, beamSize=3.81*0.68, diam=diams, dist=0.785)\n",
    "plt.figure(figsize=(7,6))\n",
    "plt.rc('font', family='serif')\n",
    "plt.text(2, 2.7e22, 'G1.9+0.3', fontsize=12)\n",
    "plt.text(3, 4.3e21, 'SN1885a', fontsize=12)\n",
    "plt.text(.3, 7.0e21, r'3$\\sigma$ limit'+'\\n'+r'$\\sigma=2.7 \\mu\\rm{Jy/beam}$', fontsize=15)\n",
    "plt.plot(diams, lums_corr, 'k--')\n",
    "plt.xlabel('Diameter [pc]', fontsize=18)\n",
    "plt.ylabel('4.86 GHz Luminosity [ergs/s/Hz]', fontsize=18)\n",
    "plt.errorbar([4.0], [g19_lum1], yerr=[g19_lum1_err], fmt='o', ms=10, capsize=0)\n",
    "plt.errorbar([3.0], [sn1885_lum], yerr=[sn1885_lum_err], fmt='v', ms=10, capsize=0)\n",
    "plt.yscale('log')\n",
    "plt.xscale('log')\n",
    "plt.xlim(0.1, 15)\n",
    "plt.show()"
   ]
  },
  {
   "cell_type": "code",
   "execution_count": 18,
   "metadata": {
    "collapsed": false
   },
   "outputs": [
    {
     "name": "stdout",
     "output_type": "stream",
     "text": [
      "6.35192555476e+21\n",
      "3.78879e+22\n"
     ]
    }
   ],
   "source": [
    "wh = np.where(diams>=4.0)\n",
    "print lums_corr[40]\n",
    "print g19_lum1"
   ]
  },
  {
   "cell_type": "code",
   "execution_count": 7,
   "metadata": {
    "collapsed": false
   },
   "outputs": [
    {
     "name": "stdout",
     "output_type": "stream",
     "text": [
      "Luminosity in ergs/s/Hz =  8.03955025733e+22 W / Hz\n"
     ]
    }
   ],
   "source": [
    "from astropy import units\n",
    "lum = lambda f, d: f*(4.0*np.pi*d*d)\n",
    "mJy = 1.0e-3*units.astrophys.Jy\n",
    "flux = 0.93*1.0e3*mJy\n",
    "dist = 0.0085*(1.0e6*units.parsec).to(units.m)\n",
    "l = lum(flux, dist).to(units.W/units.Hz)\n",
    "print 'Luminosity in ergs/s/Hz = ',l*1.0e7"
   ]
  },
  {
   "cell_type": "code",
   "execution_count": 23,
   "metadata": {
    "collapsed": false
   },
   "outputs": [
    {
     "data": {
      "text/latex": [
       "$1.1958886 \\times 10^{24} \\; \\mathrm{\\frac{W}{Hz}}$"
      ],
      "text/plain": [
       "<Quantity 1.195888610778214e+24 W / Hz>"
      ]
     },
     "execution_count": 23,
     "metadata": {},
     "output_type": "execute_result"
    }
   ],
   "source": [
    "flux = lambda lum, d: lum/(4.0*np.pi*d*d)\n",
    "mJy = 1.0e-3*units.astrophys.Jy\n",
    "flux = 0.0114*mJy\n",
    "dist = 0.785*(1.0e6*units.parsec).to(units.m)\n",
    "l = lum(flux, dist).to(units.W/units.Hz)\n",
    "print 'Luminosity in ergs/s/Hz = ',l*1.0e7"
   ]
  },
  {
   "cell_type": "code",
   "execution_count": 26,
   "metadata": {
    "collapsed": false
   },
   "outputs": [
    {
     "name": "stdout",
     "output_type": "stream",
     "text": [
      "3.5050878e+21\n"
     ]
    }
   ],
   "source": [
    "fluxsn1885 = 0.00158*3.0 #mJy, Chomiuk's upper limit from document\n",
    "dist = 0.785 #McConnachie 2005 - http://adsabs.harvard.edu/abs/2005MNRAS.356..979M\n",
    "e_dist = 0.025\n",
    "lumsn1885 = 1.0e24*1.2*fluxsn1885*dist*dist\n",
    "print lumsn1885"
   ]
  },
  {
   "cell_type": "code",
   "execution_count": 6,
   "metadata": {
    "collapsed": false
   },
   "outputs": [
    {
     "data": {
      "text/plain": [
       "0.10989600000000001"
      ]
     },
     "execution_count": 6,
     "metadata": {},
     "output_type": "execute_result"
    }
   ],
   "source": [
    "0.0114*9.64"
   ]
  },
  {
   "cell_type": "code",
   "execution_count": null,
   "metadata": {
    "collapsed": true
   },
   "outputs": [],
   "source": []
  }
 ],
 "metadata": {
  "anaconda-cloud": {},
  "kernelspec": {
   "display_name": "Python [default]",
   "language": "python",
   "name": "python2"
  },
  "language_info": {
   "codemirror_mode": {
    "name": "ipython",
    "version": 2
   },
   "file_extension": ".py",
   "mimetype": "text/x-python",
   "name": "python",
   "nbconvert_exporter": "python",
   "pygments_lexer": "ipython2",
   "version": "2.7.12"
  }
 },
 "nbformat": 4,
 "nbformat_minor": 0
}
